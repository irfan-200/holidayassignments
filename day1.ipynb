{
 "cells": [
  {
   "cell_type": "code",
   "execution_count": 1,
   "id": "8a848af4",
   "metadata": {},
   "outputs": [
    {
     "name": "stdout",
     "output_type": "stream",
     "text": [
      "<class 'int'> 25\n",
      "<class 'float'> 12.5\n",
      "<class 'str'> Hello\n",
      "<class 'bool'> True\n"
     ]
    }
   ],
   "source": [
    "a = 25  # Integer\n",
    "b = 12.5  # Float\n",
    "c = \"Hello\"  # String\n",
    "d = True  # Boolean\n",
    "\n",
    "print(type(a), a)\n",
    "print(type(b), b)\n",
    "print(type(c), c)\n",
    "print(type(d), d)"
   ]
  },
  {
   "cell_type": "code",
   "execution_count": null,
   "id": "50fba3f7",
   "metadata": {},
   "outputs": [],
   "source": []
  }
 ],
 "metadata": {
  "kernelspec": {
   "display_name": "Python 3 (ipykernel)",
   "language": "python",
   "name": "python3"
  },
  "language_info": {
   "codemirror_mode": {
    "name": "ipython",
    "version": 3
   },
   "file_extension": ".py",
   "mimetype": "text/x-python",
   "name": "python",
   "nbconvert_exporter": "python",
   "pygments_lexer": "ipython3",
   "version": "3.11.5"
  }
 },
 "nbformat": 4,
 "nbformat_minor": 5
}
