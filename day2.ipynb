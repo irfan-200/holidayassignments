{
 "cells": [
  {
   "cell_type": "code",
   "execution_count": 2,
   "id": "9120123a",
   "metadata": {},
   "outputs": [
    {
     "name": "stdout",
     "output_type": "stream",
     "text": [
      "20\n",
      "50\n",
      "apple\n",
      "date\n",
      "3\n",
      "5\n"
     ]
    }
   ],
   "source": [
    "\n",
    "list= [10, 20, 30, 40, 50]\n",
    "print(list[1])  \n",
    "print(list[-1])  \n",
    "tuple = ('apple', 'banana', 'cherry', 'date', 'fig')\n",
    "print(tuple[0])  \n",
    "print(tuple[3])  \n",
    "dict = {'a': 1, 'b': 2, 'c': 3, 'd': 4, 'e': 5}\n",
    "print(dict['c']) \n",
    "print(dict.get('e')) "
   ]
  },
  {
   "cell_type": "code",
   "execution_count": null,
   "id": "a9d4227c",
   "metadata": {},
   "outputs": [],
   "source": []
  }
 ],
 "metadata": {
  "kernelspec": {
   "display_name": "Python 3 (ipykernel)",
   "language": "python",
   "name": "python3"
  },
  "language_info": {
   "codemirror_mode": {
    "name": "ipython",
    "version": 3
   },
   "file_extension": ".py",
   "mimetype": "text/x-python",
   "name": "python",
   "nbconvert_exporter": "python",
   "pygments_lexer": "ipython3",
   "version": "3.11.5"
  }
 },
 "nbformat": 4,
 "nbformat_minor": 5
}
