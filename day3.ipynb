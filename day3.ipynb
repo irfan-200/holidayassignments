{
 "cells": [
  {
   "cell_type": "code",
   "execution_count": 1,
   "id": "e1ba9708",
   "metadata": {},
   "outputs": [
    {
     "name": "stdout",
     "output_type": "stream",
     "text": [
      "Average Marks: 88.33\n",
      "Grade: B\n"
     ]
    }
   ],
   "source": [
    "a1= 85\n",
    "b1= 92\n",
    "c1= 88\n",
    "d1= (a1 + b1+ c1) / 3\n",
    "if d1 >= 90:\n",
    "    grade = \"Grade: A\"\n",
    "elif 80 <= d1< 90:\n",
    "    grade = \"Grade: B\"\n",
    "elif 70 <= d1 < 80:\n",
    "    grade = \"Grade: C\"\n",
    "else:\n",
    "    grade = \"Grade: Fail\"\n",
    "print(f\"Average Marks: {d1:.2f}\")\n",
    "print(grade)"
   ]
  },
  {
   "cell_type": "code",
   "execution_count": null,
   "id": "7933be8f",
   "metadata": {},
   "outputs": [],
   "source": []
  }
 ],
 "metadata": {
  "kernelspec": {
   "display_name": "Python 3 (ipykernel)",
   "language": "python",
   "name": "python3"
  },
  "language_info": {
   "codemirror_mode": {
    "name": "ipython",
    "version": 3
   },
   "file_extension": ".py",
   "mimetype": "text/x-python",
   "name": "python",
   "nbconvert_exporter": "python",
   "pygments_lexer": "ipython3",
   "version": "3.11.5"
  }
 },
 "nbformat": 4,
 "nbformat_minor": 5
}
