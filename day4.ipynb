{
 "cells": [
  {
   "cell_type": "code",
   "execution_count": 1,
   "id": "03224209",
   "metadata": {},
   "outputs": [
    {
     "name": "stdout",
     "output_type": "stream",
     "text": [
      "Enter a positive integer: 4\n",
      "The sum of all even numbers between 1 and 4 is: 6\n"
     ]
    }
   ],
   "source": [
    "def sum_of_evens(n):\n",
    "    if n <= 0:\n",
    "        return \"Please enter a positive integer greater than 0.\"\n",
    "\n",
    "    even_sum = sum(i for i in range(2, n + 1, 2))\n",
    "    return even_sum\n",
    "try:\n",
    "    n = int(input(\"Enter a positive integer: \"))\n",
    "    result = sum_of_evens(n)\n",
    "    print(f\"The sum of all even numbers between 1 and {n} is: {result}\")\n",
    "except ValueError:\n",
    "    print(\"Please enter a valid positive integer.\")"
   ]
  },
  {
   "cell_type": "code",
   "execution_count": null,
   "id": "67fa6928",
   "metadata": {},
   "outputs": [],
   "source": []
  }
 ],
 "metadata": {
  "kernelspec": {
   "display_name": "Python 3 (ipykernel)",
   "language": "python",
   "name": "python3"
  },
  "language_info": {
   "codemirror_mode": {
    "name": "ipython",
    "version": 3
   },
   "file_extension": ".py",
   "mimetype": "text/x-python",
   "name": "python",
   "nbconvert_exporter": "python",
   "pygments_lexer": "ipython3",
   "version": "3.11.5"
  }
 },
 "nbformat": 4,
 "nbformat_minor": 5
}
