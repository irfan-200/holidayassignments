{
 "cells": [
  {
   "cell_type": "code",
   "execution_count": 1,
   "id": "307fd3ed",
   "metadata": {},
   "outputs": [
    {
     "name": "stdout",
     "output_type": "stream",
     "text": [
      "    Name  Age Department  Salary\n",
      "0   John   28         HR   45000\n",
      "1  Alice   34         IT   60000\n",
      "2    Bob   23  Marketing   35000\n",
      "3  Diana   29    Finance   50000\n",
      "First 2 rows of the DataFrame:\n",
      "   Employee_ID   Name  Age  Salary\n",
      "0            1  Alice   23   50000\n",
      "1            2    Bob   30   60000\n",
      "\n",
      "Average Salary of employees: 56000.0\n",
      "\n",
      "Employees older than 25:\n",
      "   Employee_ID     Name  Age  Salary   Bonus\n",
      "1            2      Bob   30   60000  6000.0\n",
      "2            3  Charlie   28   55000  5500.0\n",
      "3            4    David   35   70000  7000.0\n"
     ]
    }
   ],
   "source": [
    "# 1 question\n",
    "import pandas as pd\n",
    "data = {\n",
    "    'Name': ['John', 'Alice', 'Bob', 'Diana'],\n",
    "    'Age': [28, 34, 23, 29],\n",
    "    'Department': ['HR', 'IT', 'Marketing', 'Finance'],\n",
    "    'Salary': [45000, 60000, 35000, 50000]\n",
    "}\n",
    "df = pd.DataFrame(data)\n",
    "print(df)\n",
    "\n",
    "\n",
    "# 2 question\n",
    "import pandas as pd\n",
    "data = {\n",
    "    'Employee_ID': [1, 2, 3, 4, 5],\n",
    "    'Name': ['Alice', 'Bob', 'Charlie', 'David', 'Eve'],\n",
    "    'Age': [23, 30, 28, 35, 22],\n",
    "    'Salary': [50000, 60000, 55000, 70000, 45000]\n",
    "}\n",
    "df = pd.DataFrame(data)\n",
    "print(\"First 2 rows of the DataFrame:\")\n",
    "print(df.head(2))\n",
    "df['Bonus'] = df['Salary'] * 0.10\n",
    "average_salary = df['Salary'].mean()\n",
    "print(\"\\nAverage Salary of employees:\", average_salary)\n",
    "filtered_df = df[df['Age'] > 25]\n",
    "print(\"\\nEmployees older than 25:\")\n",
    "print(filtered_df)"
   ]
  },
  {
   "cell_type": "code",
   "execution_count": null,
   "id": "221ee8ce",
   "metadata": {},
   "outputs": [],
   "source": []
  }
 ],
 "metadata": {
  "kernelspec": {
   "display_name": "Python 3 (ipykernel)",
   "language": "python",
   "name": "python3"
  },
  "language_info": {
   "codemirror_mode": {
    "name": "ipython",
    "version": 3
   },
   "file_extension": ".py",
   "mimetype": "text/x-python",
   "name": "python",
   "nbconvert_exporter": "python",
   "pygments_lexer": "ipython3",
   "version": "3.11.5"
  }
 },
 "nbformat": 4,
 "nbformat_minor": 5
}
